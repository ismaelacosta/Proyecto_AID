{
 "cells": [
  {
   "cell_type": "markdown",
   "metadata": {},
   "source": [
    "# Examen Unidad 2\n",
    "\n",
    "**Integrantes**\n",
    "\n",
    "Acosta López Roberto Ismael - 18111958 \\\n",
    "Gaytan Bañuelos Ángel - 18111893 \\\n",
    "Valenzuela Rodriguez Axel Alejandro - 18111978 "
   ]
  },
  {
   "cell_type": "markdown",
   "metadata": {},
   "source": [
    "## Importando librerias\n",
    "\n",
    "Importamos las librerias que utilizaremos para todo el documento"
   ]
  },
  {
   "cell_type": "code",
   "execution_count": 217,
   "metadata": {},
   "outputs": [],
   "source": [
    "import pandas as pd\n",
    "import matplotlib.pyplot as plt\n",
    "import numpy as np\n",
    "from sklearn.preprocessing import StandardScaler, Normalizer\n",
    "from sklearn import preprocessing\n",
    "from sklearn.feature_selection import SelectKBest\n",
    "from sklearn.feature_selection import chi2 \n",
    "from sklearn.model_selection import train_test_split\n",
    "\n",
    "\n",
    "# Librerias de prueba\n",
    "# Para clasificación \n",
    "from sklearn.linear_model import LogisticRegression\n",
    "\n",
    "#Evaluacion de rendimeinto \n",
    "from sklearn.metrics import confusion_matrix\n",
    "from sklearn.metrics import classification_report\n",
    "from sklearn.metrics import roc_auc_score"
   ]
  },
  {
   "cell_type": "markdown",
   "metadata": {},
   "source": [
    "Configuramos opciones de visualización "
   ]
  },
  {
   "cell_type": "code",
   "execution_count": 192,
   "metadata": {},
   "outputs": [],
   "source": [
    "pd.options.display.max_columns = 10\n",
    "pd.options.display.max_rows = 10"
   ]
  },
  {
   "cell_type": "markdown",
   "metadata": {},
   "source": [
    "## Cargando Dataset\n",
    "\n",
    "### Información sobre el dataset\n",
    "# Poner algo aqui \n",
    "\n",
    "lo que dice en kaggle es lo siguiente: \n",
    "Firma electrónica de préstamo basada en historial financiero\n",
    "Desarrolle un modelo para predecir si el solicitante completó o no el proceso de firma electrónica\n",
    "\n",
    "Contenido:-\n",
    "El archivo contiene detalles de usuario que están dispuestos a completar el proceso de firma\n",
    "\n",
    "Detalles:-\n",
    "Excepto todas las columnas, la columna de clase denota lo siguiente: -\n",
    "Clase 0 --> No completó el proceso de firma\n",
    "clase 1 --> Proceso de firma electrónica completado.\n",
    "\n",
    "Meta:-\n",
    "El objetivo principal es crear varios algoritmos diferentes y predecir si el solicitante completó el proceso de firma electrónica o no.\n",
    "\n",
    "Método de resolución: -\n",
    "La declaración del problema dada se encuentra bajo clasificación binaria.\n",
    "Tenemos que resolver el problema utilizando diferentes algoritmos de aprendizaje automático, así como algoritmos de aprendizaje profundo."
   ]
  },
  {
   "cell_type": "code",
   "execution_count": 2,
   "metadata": {},
   "outputs": [],
   "source": [
    "df = pd.read_csv('Financial-Data.csv')"
   ]
  },
  {
   "cell_type": "markdown",
   "metadata": {},
   "source": [
    "## Capitulo 5 - Entendiendo los datos"
   ]
  },
  {
   "cell_type": "markdown",
   "metadata": {},
   "source": [
    "### Verificar los datos"
   ]
  },
  {
   "cell_type": "code",
   "execution_count": 96,
   "metadata": {},
   "outputs": [
    {
     "data": {
      "text/html": [
       "<div>\n",
       "<style scoped>\n",
       "    .dataframe tbody tr th:only-of-type {\n",
       "        vertical-align: middle;\n",
       "    }\n",
       "\n",
       "    .dataframe tbody tr th {\n",
       "        vertical-align: top;\n",
       "    }\n",
       "\n",
       "    .dataframe thead th {\n",
       "        text-align: right;\n",
       "    }\n",
       "</style>\n",
       "<table border=\"1\" class=\"dataframe\">\n",
       "  <thead>\n",
       "    <tr style=\"text-align: right;\">\n",
       "      <th></th>\n",
       "      <th>ID</th>\n",
       "      <th>Edad</th>\n",
       "      <th>Fecha_de_salario</th>\n",
       "      <th>Dueño_de_casa</th>\n",
       "      <th>Ingreso</th>\n",
       "      <th>...</th>\n",
       "      <th>risk_score_5</th>\n",
       "      <th>ext_quality_score</th>\n",
       "      <th>ext_quality_score_2</th>\n",
       "      <th>consultas_el_mes_pasado</th>\n",
       "      <th>Firma_electronica</th>\n",
       "    </tr>\n",
       "  </thead>\n",
       "  <tbody>\n",
       "    <tr>\n",
       "      <th>0</th>\n",
       "      <td>7629673</td>\n",
       "      <td>40</td>\n",
       "      <td>bi-weekly</td>\n",
       "      <td>1</td>\n",
       "      <td>3135</td>\n",
       "      <td>...</td>\n",
       "      <td>0.515977</td>\n",
       "      <td>0.580918</td>\n",
       "      <td>0.380918</td>\n",
       "      <td>10</td>\n",
       "      <td>1</td>\n",
       "    </tr>\n",
       "    <tr>\n",
       "      <th>1</th>\n",
       "      <td>3560428</td>\n",
       "      <td>61</td>\n",
       "      <td>weekly</td>\n",
       "      <td>0</td>\n",
       "      <td>3180</td>\n",
       "      <td>...</td>\n",
       "      <td>0.826402</td>\n",
       "      <td>0.730720</td>\n",
       "      <td>0.630720</td>\n",
       "      <td>9</td>\n",
       "      <td>0</td>\n",
       "    </tr>\n",
       "    <tr>\n",
       "      <th>2</th>\n",
       "      <td>6934997</td>\n",
       "      <td>23</td>\n",
       "      <td>weekly</td>\n",
       "      <td>0</td>\n",
       "      <td>1540</td>\n",
       "      <td>...</td>\n",
       "      <td>0.762284</td>\n",
       "      <td>0.531712</td>\n",
       "      <td>0.531712</td>\n",
       "      <td>7</td>\n",
       "      <td>0</td>\n",
       "    </tr>\n",
       "    <tr>\n",
       "      <th>3</th>\n",
       "      <td>5682812</td>\n",
       "      <td>40</td>\n",
       "      <td>bi-weekly</td>\n",
       "      <td>0</td>\n",
       "      <td>5230</td>\n",
       "      <td>...</td>\n",
       "      <td>0.778831</td>\n",
       "      <td>0.792552</td>\n",
       "      <td>0.592552</td>\n",
       "      <td>8</td>\n",
       "      <td>1</td>\n",
       "    </tr>\n",
       "    <tr>\n",
       "      <th>4</th>\n",
       "      <td>5335819</td>\n",
       "      <td>33</td>\n",
       "      <td>semi-monthly</td>\n",
       "      <td>0</td>\n",
       "      <td>3590</td>\n",
       "      <td>...</td>\n",
       "      <td>0.665523</td>\n",
       "      <td>0.744634</td>\n",
       "      <td>0.744634</td>\n",
       "      <td>12</td>\n",
       "      <td>0</td>\n",
       "    </tr>\n",
       "  </tbody>\n",
       "</table>\n",
       "<p>5 rows × 21 columns</p>\n",
       "</div>"
      ],
      "text/plain": [
       "        ID  Edad Fecha_de_salario  Dueño_de_casa  Ingreso  ...  risk_score_5  \\\n",
       "0  7629673    40        bi-weekly              1     3135  ...      0.515977   \n",
       "1  3560428    61           weekly              0     3180  ...      0.826402   \n",
       "2  6934997    23           weekly              0     1540  ...      0.762284   \n",
       "3  5682812    40        bi-weekly              0     5230  ...      0.778831   \n",
       "4  5335819    33     semi-monthly              0     3590  ...      0.665523   \n",
       "\n",
       "   ext_quality_score  ext_quality_score_2  consultas_el_mes_pasado  \\\n",
       "0           0.580918             0.380918                       10   \n",
       "1           0.730720             0.630720                        9   \n",
       "2           0.531712             0.531712                        7   \n",
       "3           0.792552             0.592552                        8   \n",
       "4           0.744634             0.744634                       12   \n",
       "\n",
       "   Firma_electronica  \n",
       "0                  1  \n",
       "1                  0  \n",
       "2                  0  \n",
       "3                  1  \n",
       "4                  0  \n",
       "\n",
       "[5 rows x 21 columns]"
      ]
     },
     "execution_count": 96,
     "metadata": {},
     "output_type": "execute_result"
    }
   ],
   "source": [
    "df.head()"
   ]
  },
  {
   "cell_type": "markdown",
   "metadata": {},
   "source": [
    "### Preprocesamiento \n",
    "\n",
    "Viendo la información del dataset, vemos que contamos con una columna que maneja texto y solo se repiten unos cuantos datos, por lo que podriamos considerarla de tipo clasificación.\n",
    "\n",
    "Lo que vamos a hacer con ella sera aplicar el método label encoder para almacenar los datos exclusivamente numericos en el dataframe"
   ]
  },
  {
   "cell_type": "code",
   "execution_count": 111,
   "metadata": {},
   "outputs": [
    {
     "data": {
      "text/plain": [
       "array([0, 1, 2, 3], dtype=int64)"
      ]
     },
     "execution_count": 111,
     "metadata": {},
     "output_type": "execute_result"
    }
   ],
   "source": [
    "le = preprocessing.LabelEncoder()\n",
    "le.fit(df['Fecha_de_salario'])\n",
    "le.classes_"
   ]
  },
  {
   "cell_type": "code",
   "execution_count": 112,
   "metadata": {},
   "outputs": [
    {
     "data": {
      "text/html": [
       "<div>\n",
       "<style scoped>\n",
       "    .dataframe tbody tr th:only-of-type {\n",
       "        vertical-align: middle;\n",
       "    }\n",
       "\n",
       "    .dataframe tbody tr th {\n",
       "        vertical-align: top;\n",
       "    }\n",
       "\n",
       "    .dataframe thead th {\n",
       "        text-align: right;\n",
       "    }\n",
       "</style>\n",
       "<table border=\"1\" class=\"dataframe\">\n",
       "  <thead>\n",
       "    <tr style=\"text-align: right;\">\n",
       "      <th></th>\n",
       "      <th>ID</th>\n",
       "      <th>Edad</th>\n",
       "      <th>Fecha_de_salario</th>\n",
       "      <th>Dueño_de_casa</th>\n",
       "      <th>Ingreso</th>\n",
       "      <th>...</th>\n",
       "      <th>risk_score_5</th>\n",
       "      <th>ext_quality_score</th>\n",
       "      <th>ext_quality_score_2</th>\n",
       "      <th>consultas_el_mes_pasado</th>\n",
       "      <th>Firma_electronica</th>\n",
       "    </tr>\n",
       "  </thead>\n",
       "  <tbody>\n",
       "    <tr>\n",
       "      <th>0</th>\n",
       "      <td>7629673</td>\n",
       "      <td>40</td>\n",
       "      <td>0</td>\n",
       "      <td>1</td>\n",
       "      <td>3135</td>\n",
       "      <td>...</td>\n",
       "      <td>0.515977</td>\n",
       "      <td>0.580918</td>\n",
       "      <td>0.380918</td>\n",
       "      <td>10</td>\n",
       "      <td>1</td>\n",
       "    </tr>\n",
       "    <tr>\n",
       "      <th>1</th>\n",
       "      <td>3560428</td>\n",
       "      <td>61</td>\n",
       "      <td>3</td>\n",
       "      <td>0</td>\n",
       "      <td>3180</td>\n",
       "      <td>...</td>\n",
       "      <td>0.826402</td>\n",
       "      <td>0.730720</td>\n",
       "      <td>0.630720</td>\n",
       "      <td>9</td>\n",
       "      <td>0</td>\n",
       "    </tr>\n",
       "    <tr>\n",
       "      <th>2</th>\n",
       "      <td>6934997</td>\n",
       "      <td>23</td>\n",
       "      <td>3</td>\n",
       "      <td>0</td>\n",
       "      <td>1540</td>\n",
       "      <td>...</td>\n",
       "      <td>0.762284</td>\n",
       "      <td>0.531712</td>\n",
       "      <td>0.531712</td>\n",
       "      <td>7</td>\n",
       "      <td>0</td>\n",
       "    </tr>\n",
       "    <tr>\n",
       "      <th>3</th>\n",
       "      <td>5682812</td>\n",
       "      <td>40</td>\n",
       "      <td>0</td>\n",
       "      <td>0</td>\n",
       "      <td>5230</td>\n",
       "      <td>...</td>\n",
       "      <td>0.778831</td>\n",
       "      <td>0.792552</td>\n",
       "      <td>0.592552</td>\n",
       "      <td>8</td>\n",
       "      <td>1</td>\n",
       "    </tr>\n",
       "    <tr>\n",
       "      <th>4</th>\n",
       "      <td>5335819</td>\n",
       "      <td>33</td>\n",
       "      <td>2</td>\n",
       "      <td>0</td>\n",
       "      <td>3590</td>\n",
       "      <td>...</td>\n",
       "      <td>0.665523</td>\n",
       "      <td>0.744634</td>\n",
       "      <td>0.744634</td>\n",
       "      <td>12</td>\n",
       "      <td>0</td>\n",
       "    </tr>\n",
       "  </tbody>\n",
       "</table>\n",
       "<p>5 rows × 21 columns</p>\n",
       "</div>"
      ],
      "text/plain": [
       "        ID  Edad  Fecha_de_salario  Dueño_de_casa  Ingreso  ...  risk_score_5  \\\n",
       "0  7629673    40                 0              1     3135  ...      0.515977   \n",
       "1  3560428    61                 3              0     3180  ...      0.826402   \n",
       "2  6934997    23                 3              0     1540  ...      0.762284   \n",
       "3  5682812    40                 0              0     5230  ...      0.778831   \n",
       "4  5335819    33                 2              0     3590  ...      0.665523   \n",
       "\n",
       "   ext_quality_score  ext_quality_score_2  consultas_el_mes_pasado  \\\n",
       "0           0.580918             0.380918                       10   \n",
       "1           0.730720             0.630720                        9   \n",
       "2           0.531712             0.531712                        7   \n",
       "3           0.792552             0.592552                        8   \n",
       "4           0.744634             0.744634                       12   \n",
       "\n",
       "   Firma_electronica  \n",
       "0                  1  \n",
       "1                  0  \n",
       "2                  0  \n",
       "3                  1  \n",
       "4                  0  \n",
       "\n",
       "[5 rows x 21 columns]"
      ]
     },
     "execution_count": 112,
     "metadata": {},
     "output_type": "execute_result"
    }
   ],
   "source": [
    "datos_le = le.transform(df['Fecha_de_salario'])\n",
    "df['Fecha_de_salario'] = datos_le\n",
    "df.head()"
   ]
  },
  {
   "cell_type": "markdown",
   "metadata": {},
   "source": [
    "### Dimensionando los datos"
   ]
  },
  {
   "cell_type": "code",
   "execution_count": 4,
   "metadata": {},
   "outputs": [
    {
     "data": {
      "text/plain": [
       "(17908, 21)"
      ]
     },
     "execution_count": 4,
     "metadata": {},
     "output_type": "execute_result"
    }
   ],
   "source": [
    "df.shape"
   ]
  },
  {
   "cell_type": "markdown",
   "metadata": {},
   "source": [
    "### Tipos de datos"
   ]
  },
  {
   "cell_type": "code",
   "execution_count": 113,
   "metadata": {},
   "outputs": [
    {
     "data": {
      "text/plain": [
       "ID                           int64\n",
       "Edad                         int64\n",
       "Fecha_de_salario             int64\n",
       "Dueño_de_casa                int64\n",
       "Ingreso                      int64\n",
       "                            ...   \n",
       "risk_score_5               float64\n",
       "ext_quality_score          float64\n",
       "ext_quality_score_2        float64\n",
       "consultas_el_mes_pasado      int64\n",
       "Firma_electronica            int64\n",
       "Length: 21, dtype: object"
      ]
     },
     "execution_count": 113,
     "metadata": {},
     "output_type": "execute_result"
    }
   ],
   "source": [
    "df.dtypes"
   ]
  },
  {
   "cell_type": "markdown",
   "metadata": {},
   "source": [
    "### Descripción estadística"
   ]
  },
  {
   "cell_type": "code",
   "execution_count": 114,
   "metadata": {},
   "outputs": [
    {
     "data": {
      "text/html": [
       "<div>\n",
       "<style scoped>\n",
       "    .dataframe tbody tr th:only-of-type {\n",
       "        vertical-align: middle;\n",
       "    }\n",
       "\n",
       "    .dataframe tbody tr th {\n",
       "        vertical-align: top;\n",
       "    }\n",
       "\n",
       "    .dataframe thead th {\n",
       "        text-align: right;\n",
       "    }\n",
       "</style>\n",
       "<table border=\"1\" class=\"dataframe\">\n",
       "  <thead>\n",
       "    <tr style=\"text-align: right;\">\n",
       "      <th></th>\n",
       "      <th>ID</th>\n",
       "      <th>Edad</th>\n",
       "      <th>Fecha_de_salario</th>\n",
       "      <th>Dueño_de_casa</th>\n",
       "      <th>Ingreso</th>\n",
       "      <th>...</th>\n",
       "      <th>risk_score_5</th>\n",
       "      <th>ext_quality_score</th>\n",
       "      <th>ext_quality_score_2</th>\n",
       "      <th>consultas_el_mes_pasado</th>\n",
       "      <th>Firma_electronica</th>\n",
       "    </tr>\n",
       "  </thead>\n",
       "  <tbody>\n",
       "    <tr>\n",
       "      <th>count</th>\n",
       "      <td>1.790800e+04</td>\n",
       "      <td>17908.000000</td>\n",
       "      <td>17908.000000</td>\n",
       "      <td>17908.000000</td>\n",
       "      <td>17908.000000</td>\n",
       "      <td>...</td>\n",
       "      <td>17908.000000</td>\n",
       "      <td>17908.000000</td>\n",
       "      <td>17908.000000</td>\n",
       "      <td>17908.000000</td>\n",
       "      <td>17908.000000</td>\n",
       "    </tr>\n",
       "    <tr>\n",
       "      <th>mean</th>\n",
       "      <td>5.596978e+06</td>\n",
       "      <td>43.015412</td>\n",
       "      <td>0.926290</td>\n",
       "      <td>0.425173</td>\n",
       "      <td>3657.214653</td>\n",
       "      <td>...</td>\n",
       "      <td>0.718252</td>\n",
       "      <td>0.623112</td>\n",
       "      <td>0.622068</td>\n",
       "      <td>6.457226</td>\n",
       "      <td>0.538251</td>\n",
       "    </tr>\n",
       "    <tr>\n",
       "      <th>std</th>\n",
       "      <td>2.562473e+06</td>\n",
       "      <td>11.873107</td>\n",
       "      <td>1.237135</td>\n",
       "      <td>0.494383</td>\n",
       "      <td>1504.890063</td>\n",
       "      <td>...</td>\n",
       "      <td>0.120697</td>\n",
       "      <td>0.139729</td>\n",
       "      <td>0.139898</td>\n",
       "      <td>3.673093</td>\n",
       "      <td>0.498549</td>\n",
       "    </tr>\n",
       "    <tr>\n",
       "      <th>min</th>\n",
       "      <td>1.111398e+06</td>\n",
       "      <td>18.000000</td>\n",
       "      <td>0.000000</td>\n",
       "      <td>0.000000</td>\n",
       "      <td>905.000000</td>\n",
       "      <td>...</td>\n",
       "      <td>0.153367</td>\n",
       "      <td>0.010184</td>\n",
       "      <td>0.006622</td>\n",
       "      <td>1.000000</td>\n",
       "      <td>0.000000</td>\n",
       "    </tr>\n",
       "    <tr>\n",
       "      <th>25%</th>\n",
       "      <td>3.378999e+06</td>\n",
       "      <td>34.000000</td>\n",
       "      <td>0.000000</td>\n",
       "      <td>0.000000</td>\n",
       "      <td>2580.000000</td>\n",
       "      <td>...</td>\n",
       "      <td>0.633708</td>\n",
       "      <td>0.521735</td>\n",
       "      <td>0.519677</td>\n",
       "      <td>4.000000</td>\n",
       "      <td>0.000000</td>\n",
       "    </tr>\n",
       "    <tr>\n",
       "      <th>50%</th>\n",
       "      <td>5.608376e+06</td>\n",
       "      <td>42.000000</td>\n",
       "      <td>0.000000</td>\n",
       "      <td>0.000000</td>\n",
       "      <td>3260.000000</td>\n",
       "      <td>...</td>\n",
       "      <td>0.725113</td>\n",
       "      <td>0.625944</td>\n",
       "      <td>0.622973</td>\n",
       "      <td>6.000000</td>\n",
       "      <td>1.000000</td>\n",
       "    </tr>\n",
       "    <tr>\n",
       "      <th>75%</th>\n",
       "      <td>7.805624e+06</td>\n",
       "      <td>51.000000</td>\n",
       "      <td>2.000000</td>\n",
       "      <td>1.000000</td>\n",
       "      <td>4670.000000</td>\n",
       "      <td>...</td>\n",
       "      <td>0.806681</td>\n",
       "      <td>0.729841</td>\n",
       "      <td>0.728940</td>\n",
       "      <td>8.000000</td>\n",
       "      <td>1.000000</td>\n",
       "    </tr>\n",
       "    <tr>\n",
       "      <th>max</th>\n",
       "      <td>9.999874e+06</td>\n",
       "      <td>96.000000</td>\n",
       "      <td>3.000000</td>\n",
       "      <td>1.000000</td>\n",
       "      <td>9985.000000</td>\n",
       "      <td>...</td>\n",
       "      <td>0.996260</td>\n",
       "      <td>0.970249</td>\n",
       "      <td>0.966953</td>\n",
       "      <td>30.000000</td>\n",
       "      <td>1.000000</td>\n",
       "    </tr>\n",
       "  </tbody>\n",
       "</table>\n",
       "<p>8 rows × 21 columns</p>\n",
       "</div>"
      ],
      "text/plain": [
       "                 ID          Edad  Fecha_de_salario  Dueño_de_casa  \\\n",
       "count  1.790800e+04  17908.000000      17908.000000   17908.000000   \n",
       "mean   5.596978e+06     43.015412          0.926290       0.425173   \n",
       "std    2.562473e+06     11.873107          1.237135       0.494383   \n",
       "min    1.111398e+06     18.000000          0.000000       0.000000   \n",
       "25%    3.378999e+06     34.000000          0.000000       0.000000   \n",
       "50%    5.608376e+06     42.000000          0.000000       0.000000   \n",
       "75%    7.805624e+06     51.000000          2.000000       1.000000   \n",
       "max    9.999874e+06     96.000000          3.000000       1.000000   \n",
       "\n",
       "            Ingreso  ...  risk_score_5  ext_quality_score  \\\n",
       "count  17908.000000  ...  17908.000000       17908.000000   \n",
       "mean    3657.214653  ...      0.718252           0.623112   \n",
       "std     1504.890063  ...      0.120697           0.139729   \n",
       "min      905.000000  ...      0.153367           0.010184   \n",
       "25%     2580.000000  ...      0.633708           0.521735   \n",
       "50%     3260.000000  ...      0.725113           0.625944   \n",
       "75%     4670.000000  ...      0.806681           0.729841   \n",
       "max     9985.000000  ...      0.996260           0.970249   \n",
       "\n",
       "       ext_quality_score_2  consultas_el_mes_pasado  Firma_electronica  \n",
       "count         17908.000000             17908.000000       17908.000000  \n",
       "mean              0.622068                 6.457226           0.538251  \n",
       "std               0.139898                 3.673093           0.498549  \n",
       "min               0.006622                 1.000000           0.000000  \n",
       "25%               0.519677                 4.000000           0.000000  \n",
       "50%               0.622973                 6.000000           1.000000  \n",
       "75%               0.728940                 8.000000           1.000000  \n",
       "max               0.966953                30.000000           1.000000  \n",
       "\n",
       "[8 rows x 21 columns]"
      ]
     },
     "execution_count": 114,
     "metadata": {},
     "output_type": "execute_result"
    }
   ],
   "source": [
    "df.describe()"
   ]
  },
  {
   "cell_type": "markdown",
   "metadata": {},
   "source": [
    "### Distribución de clases"
   ]
  },
  {
   "cell_type": "code",
   "execution_count": 7,
   "metadata": {},
   "outputs": [
    {
     "data": {
      "text/plain": [
       "Firma_electronica\n",
       "0    8269\n",
       "1    9639\n",
       "dtype: int64"
      ]
     },
     "execution_count": 7,
     "metadata": {},
     "output_type": "execute_result"
    }
   ],
   "source": [
    "conteo_df = df.groupby(\"Firma_electronica\").size()\n",
    "conteo_df"
   ]
  },
  {
   "cell_type": "markdown",
   "metadata": {},
   "source": [
    "1: Proceso de firma electrónica completado \\\n",
    "0: No completado el proceso de firma electrónica"
   ]
  },
  {
   "cell_type": "markdown",
   "metadata": {},
   "source": [
    "### Correlación entre características"
   ]
  },
  {
   "cell_type": "code",
   "execution_count": 115,
   "metadata": {},
   "outputs": [
    {
     "data": {
      "text/html": [
       "<div>\n",
       "<style scoped>\n",
       "    .dataframe tbody tr th:only-of-type {\n",
       "        vertical-align: middle;\n",
       "    }\n",
       "\n",
       "    .dataframe tbody tr th {\n",
       "        vertical-align: top;\n",
       "    }\n",
       "\n",
       "    .dataframe thead th {\n",
       "        text-align: right;\n",
       "    }\n",
       "</style>\n",
       "<table border=\"1\" class=\"dataframe\">\n",
       "  <thead>\n",
       "    <tr style=\"text-align: right;\">\n",
       "      <th></th>\n",
       "      <th>ID</th>\n",
       "      <th>Edad</th>\n",
       "      <th>Fecha_de_salario</th>\n",
       "      <th>Dueño_de_casa</th>\n",
       "      <th>Ingreso</th>\n",
       "      <th>...</th>\n",
       "      <th>risk_score_5</th>\n",
       "      <th>ext_quality_score</th>\n",
       "      <th>ext_quality_score_2</th>\n",
       "      <th>consultas_el_mes_pasado</th>\n",
       "      <th>Firma_electronica</th>\n",
       "    </tr>\n",
       "  </thead>\n",
       "  <tbody>\n",
       "    <tr>\n",
       "      <th>ID</th>\n",
       "      <td>1.000000</td>\n",
       "      <td>0.004333</td>\n",
       "      <td>-0.013797</td>\n",
       "      <td>0.002528</td>\n",
       "      <td>-0.009034</td>\n",
       "      <td>...</td>\n",
       "      <td>0.004949</td>\n",
       "      <td>0.006025</td>\n",
       "      <td>0.006392</td>\n",
       "      <td>-0.003492</td>\n",
       "      <td>0.002735</td>\n",
       "    </tr>\n",
       "    <tr>\n",
       "      <th>Edad</th>\n",
       "      <td>0.004333</td>\n",
       "      <td>1.000000</td>\n",
       "      <td>-0.024346</td>\n",
       "      <td>0.142046</td>\n",
       "      <td>0.174062</td>\n",
       "      <td>...</td>\n",
       "      <td>0.093710</td>\n",
       "      <td>0.032265</td>\n",
       "      <td>0.040019</td>\n",
       "      <td>0.041224</td>\n",
       "      <td>-0.096998</td>\n",
       "    </tr>\n",
       "    <tr>\n",
       "      <th>Fecha_de_salario</th>\n",
       "      <td>-0.013797</td>\n",
       "      <td>-0.024346</td>\n",
       "      <td>1.000000</td>\n",
       "      <td>-0.013127</td>\n",
       "      <td>0.016259</td>\n",
       "      <td>...</td>\n",
       "      <td>0.170843</td>\n",
       "      <td>0.002412</td>\n",
       "      <td>-0.002812</td>\n",
       "      <td>-0.029082</td>\n",
       "      <td>0.017881</td>\n",
       "    </tr>\n",
       "    <tr>\n",
       "      <th>Dueño_de_casa</th>\n",
       "      <td>0.002528</td>\n",
       "      <td>0.142046</td>\n",
       "      <td>-0.013127</td>\n",
       "      <td>1.000000</td>\n",
       "      <td>0.147487</td>\n",
       "      <td>...</td>\n",
       "      <td>-0.080470</td>\n",
       "      <td>0.010080</td>\n",
       "      <td>0.005507</td>\n",
       "      <td>0.011215</td>\n",
       "      <td>-0.047409</td>\n",
       "    </tr>\n",
       "    <tr>\n",
       "      <th>Ingreso</th>\n",
       "      <td>-0.009034</td>\n",
       "      <td>0.174062</td>\n",
       "      <td>0.016259</td>\n",
       "      <td>0.147487</td>\n",
       "      <td>1.000000</td>\n",
       "      <td>...</td>\n",
       "      <td>0.025179</td>\n",
       "      <td>-0.008429</td>\n",
       "      <td>-0.003323</td>\n",
       "      <td>0.051622</td>\n",
       "      <td>0.031377</td>\n",
       "    </tr>\n",
       "    <tr>\n",
       "      <th>...</th>\n",
       "      <td>...</td>\n",
       "      <td>...</td>\n",
       "      <td>...</td>\n",
       "      <td>...</td>\n",
       "      <td>...</td>\n",
       "      <td>...</td>\n",
       "      <td>...</td>\n",
       "      <td>...</td>\n",
       "      <td>...</td>\n",
       "      <td>...</td>\n",
       "      <td>...</td>\n",
       "    </tr>\n",
       "    <tr>\n",
       "      <th>risk_score_5</th>\n",
       "      <td>0.004949</td>\n",
       "      <td>0.093710</td>\n",
       "      <td>0.170843</td>\n",
       "      <td>-0.080470</td>\n",
       "      <td>0.025179</td>\n",
       "      <td>...</td>\n",
       "      <td>1.000000</td>\n",
       "      <td>0.284291</td>\n",
       "      <td>0.279478</td>\n",
       "      <td>-0.015720</td>\n",
       "      <td>-0.007541</td>\n",
       "    </tr>\n",
       "    <tr>\n",
       "      <th>ext_quality_score</th>\n",
       "      <td>0.006025</td>\n",
       "      <td>0.032265</td>\n",
       "      <td>0.002412</td>\n",
       "      <td>0.010080</td>\n",
       "      <td>-0.008429</td>\n",
       "      <td>...</td>\n",
       "      <td>0.284291</td>\n",
       "      <td>1.000000</td>\n",
       "      <td>0.359777</td>\n",
       "      <td>-0.075221</td>\n",
       "      <td>-0.032129</td>\n",
       "    </tr>\n",
       "    <tr>\n",
       "      <th>ext_quality_score_2</th>\n",
       "      <td>0.006392</td>\n",
       "      <td>0.040019</td>\n",
       "      <td>-0.002812</td>\n",
       "      <td>0.005507</td>\n",
       "      <td>-0.003323</td>\n",
       "      <td>...</td>\n",
       "      <td>0.279478</td>\n",
       "      <td>0.359777</td>\n",
       "      <td>1.000000</td>\n",
       "      <td>-0.081526</td>\n",
       "      <td>-0.024271</td>\n",
       "    </tr>\n",
       "    <tr>\n",
       "      <th>consultas_el_mes_pasado</th>\n",
       "      <td>-0.003492</td>\n",
       "      <td>0.041224</td>\n",
       "      <td>-0.029082</td>\n",
       "      <td>0.011215</td>\n",
       "      <td>0.051622</td>\n",
       "      <td>...</td>\n",
       "      <td>-0.015720</td>\n",
       "      <td>-0.075221</td>\n",
       "      <td>-0.081526</td>\n",
       "      <td>1.000000</td>\n",
       "      <td>-0.025165</td>\n",
       "    </tr>\n",
       "    <tr>\n",
       "      <th>Firma_electronica</th>\n",
       "      <td>0.002735</td>\n",
       "      <td>-0.096998</td>\n",
       "      <td>0.017881</td>\n",
       "      <td>-0.047409</td>\n",
       "      <td>0.031377</td>\n",
       "      <td>...</td>\n",
       "      <td>-0.007541</td>\n",
       "      <td>-0.032129</td>\n",
       "      <td>-0.024271</td>\n",
       "      <td>-0.025165</td>\n",
       "      <td>1.000000</td>\n",
       "    </tr>\n",
       "  </tbody>\n",
       "</table>\n",
       "<p>21 rows × 21 columns</p>\n",
       "</div>"
      ],
      "text/plain": [
       "                               ID      Edad  Fecha_de_salario  Dueño_de_casa  \\\n",
       "ID                       1.000000  0.004333         -0.013797       0.002528   \n",
       "Edad                     0.004333  1.000000         -0.024346       0.142046   \n",
       "Fecha_de_salario        -0.013797 -0.024346          1.000000      -0.013127   \n",
       "Dueño_de_casa            0.002528  0.142046         -0.013127       1.000000   \n",
       "Ingreso                 -0.009034  0.174062          0.016259       0.147487   \n",
       "...                           ...       ...               ...            ...   \n",
       "risk_score_5             0.004949  0.093710          0.170843      -0.080470   \n",
       "ext_quality_score        0.006025  0.032265          0.002412       0.010080   \n",
       "ext_quality_score_2      0.006392  0.040019         -0.002812       0.005507   \n",
       "consultas_el_mes_pasado -0.003492  0.041224         -0.029082       0.011215   \n",
       "Firma_electronica        0.002735 -0.096998          0.017881      -0.047409   \n",
       "\n",
       "                          Ingreso  ...  risk_score_5  ext_quality_score  \\\n",
       "ID                      -0.009034  ...      0.004949           0.006025   \n",
       "Edad                     0.174062  ...      0.093710           0.032265   \n",
       "Fecha_de_salario         0.016259  ...      0.170843           0.002412   \n",
       "Dueño_de_casa            0.147487  ...     -0.080470           0.010080   \n",
       "Ingreso                  1.000000  ...      0.025179          -0.008429   \n",
       "...                           ...  ...           ...                ...   \n",
       "risk_score_5             0.025179  ...      1.000000           0.284291   \n",
       "ext_quality_score       -0.008429  ...      0.284291           1.000000   \n",
       "ext_quality_score_2     -0.003323  ...      0.279478           0.359777   \n",
       "consultas_el_mes_pasado  0.051622  ...     -0.015720          -0.075221   \n",
       "Firma_electronica        0.031377  ...     -0.007541          -0.032129   \n",
       "\n",
       "                         ext_quality_score_2  consultas_el_mes_pasado  \\\n",
       "ID                                  0.006392                -0.003492   \n",
       "Edad                                0.040019                 0.041224   \n",
       "Fecha_de_salario                   -0.002812                -0.029082   \n",
       "Dueño_de_casa                       0.005507                 0.011215   \n",
       "Ingreso                            -0.003323                 0.051622   \n",
       "...                                      ...                      ...   \n",
       "risk_score_5                        0.279478                -0.015720   \n",
       "ext_quality_score                   0.359777                -0.075221   \n",
       "ext_quality_score_2                 1.000000                -0.081526   \n",
       "consultas_el_mes_pasado            -0.081526                 1.000000   \n",
       "Firma_electronica                  -0.024271                -0.025165   \n",
       "\n",
       "                         Firma_electronica  \n",
       "ID                                0.002735  \n",
       "Edad                             -0.096998  \n",
       "Fecha_de_salario                  0.017881  \n",
       "Dueño_de_casa                    -0.047409  \n",
       "Ingreso                           0.031377  \n",
       "...                                    ...  \n",
       "risk_score_5                     -0.007541  \n",
       "ext_quality_score                -0.032129  \n",
       "ext_quality_score_2              -0.024271  \n",
       "consultas_el_mes_pasado          -0.025165  \n",
       "Firma_electronica                 1.000000  \n",
       "\n",
       "[21 rows x 21 columns]"
      ]
     },
     "execution_count": 115,
     "metadata": {},
     "output_type": "execute_result"
    }
   ],
   "source": [
    "correlacion = df.corr(method=\"pearson\")\n",
    "correlacion"
   ]
  },
  {
   "cell_type": "markdown",
   "metadata": {},
   "source": [
    "## Capitulo 6 - Visualizando los datos"
   ]
  },
  {
   "cell_type": "markdown",
   "metadata": {},
   "source": [
    "### Histograma"
   ]
  },
  {
   "cell_type": "code",
   "execution_count": 116,
   "metadata": {},
   "outputs": [],
   "source": [
    "def histograma():\n",
    "    colores = [\"red\", \"blue\",\"orange\", \"green\", \"purple\", \"pink\", \"brown\", \"yellow\", \"cyan\", \"red\", \"blue\",\"orange\", \"green\", \"purple\", \"pink\", \"brown\", \"yellow\", \"cyan\", \"red\", \"blue\",\"orange\", \"green\", \"purple\", \"pink\", \"brown\", \"yellow\", \"cyan\"]\n",
    "\n",
    "    fig, axes = plt.subplots(nrows=7, ncols=3, figsize=(20,40))\n",
    "\n",
    "    for i, ax in enumerate(axes.flat, start=0):\n",
    "        ax.hist(x=df.iloc[:,i].values, histtype=\"stepfilled\", color=colores[i], label= df.iloc[:,i].name, align=\"mid\" )\n",
    "        ax.set_title(df.iloc[:,i].name)\n",
    "        ax.set_xlabel(df.iloc[:,i].name)\n",
    "        ax.set_ylabel('Número de personas')\n",
    "        ax.legend()\n",
    "\n",
    "    plt.show()"
   ]
  },
  {
   "cell_type": "code",
   "execution_count": 117,
   "metadata": {},
   "outputs": [
    {
     "data": {
      "image/png": "[encoded data removed]",
      "text/plain": [
       "<Figure size 1440x2880 with 21 Axes>"
      ]
     },
     "metadata": {
      "needs_background": "light"
     },
     "output_type": "display_data"
    }
   ],
   "source": [
    "histograma()"
   ]
  },
  {
   "cell_type": "markdown",
   "metadata": {},
   "source": [
    "### Diagramas de caja"
   ]
  },
  {
   "cell_type": "code",
   "execution_count": 118,
   "metadata": {},
   "outputs": [
    {
     "data": {
      "image/png": "[encoded data removed]",
      "text/plain": [
       "<Figure size 1080x1440 with 21 Axes>"
      ]
     },
     "metadata": {
      "needs_background": "light"
     },
     "output_type": "display_data"
    }
   ],
   "source": [
    "df.plot(kind=\"box\", subplots=True, layout=(7,3), sharex=False, sharey=False, figsize=(15,20))\n",
    "plt.show()"
   ]
  },
  {
   "cell_type": "markdown",
   "metadata": {},
   "source": [
    "### Matriz de correlación "
   ]
  },
  {
   "cell_type": "code",
   "execution_count": 120,
   "metadata": {},
   "outputs": [
    {
     "data": {
      "text/plain": [
       "<Figure size 144000x144000 with 0 Axes>"
      ]
     },
     "metadata": {},
     "output_type": "display_data"
    },
    {
     "data": {
      "image/png": "[encoded data removed]",
      "text/plain": [
       "<Figure size 288x288 with 2 Axes>"
      ]
     },
     "metadata": {
      "needs_background": "light"
     },
     "output_type": "display_data"
    }
   ],
   "source": [
    "matriz_correlacion = df.corr(method='pearson')\n",
    "\n",
    "plt.figure(figsize=(2000,2000))\n",
    "plt.matshow(matriz_correlacion, cmap=\"bwr\", vmin=-1, vmax=1)\n",
    "plt.xticks(range(21),matriz_correlacion.columns, rotation=90)\n",
    "plt.yticks(range(21),matriz_correlacion.columns)\n",
    "plt.colorbar()\n",
    "plt.show()"
   ]
  },
  {
   "cell_type": "markdown",
   "metadata": {},
   "source": [
    "## Capitulo 8 - Seleccionando características"
   ]
  },
  {
   "cell_type": "markdown",
   "metadata": {},
   "source": [
    "### Separación de los datos"
   ]
  },
  {
   "cell_type": "code",
   "execution_count": 164,
   "metadata": {},
   "outputs": [
    {
     "data": {
      "text/html": [
       "<div>\n",
       "<style scoped>\n",
       "    .dataframe tbody tr th:only-of-type {\n",
       "        vertical-align: middle;\n",
       "    }\n",
       "\n",
       "    .dataframe tbody tr th {\n",
       "        vertical-align: top;\n",
       "    }\n",
       "\n",
       "    .dataframe thead th {\n",
       "        text-align: right;\n",
       "    }\n",
       "</style>\n",
       "<table border=\"1\" class=\"dataframe\">\n",
       "  <thead>\n",
       "    <tr style=\"text-align: right;\">\n",
       "      <th></th>\n",
       "      <th>Edad</th>\n",
       "      <th>Fecha_de_salario</th>\n",
       "      <th>Dueño_de_casa</th>\n",
       "      <th>Ingreso</th>\n",
       "      <th>Meses_trabajados</th>\n",
       "      <th>...</th>\n",
       "      <th>risk_score_4</th>\n",
       "      <th>risk_score_5</th>\n",
       "      <th>ext_quality_score</th>\n",
       "      <th>ext_quality_score_2</th>\n",
       "      <th>consultas_el_mes_pasado</th>\n",
       "    </tr>\n",
       "  </thead>\n",
       "  <tbody>\n",
       "    <tr>\n",
       "      <th>0</th>\n",
       "      <td>40</td>\n",
       "      <td>0</td>\n",
       "      <td>1</td>\n",
       "      <td>3135</td>\n",
       "      <td>0</td>\n",
       "      <td>...</td>\n",
       "      <td>0.487712</td>\n",
       "      <td>0.515977</td>\n",
       "      <td>0.580918</td>\n",
       "      <td>0.380918</td>\n",
       "      <td>10</td>\n",
       "    </tr>\n",
       "    <tr>\n",
       "      <th>1</th>\n",
       "      <td>61</td>\n",
       "      <td>3</td>\n",
       "      <td>0</td>\n",
       "      <td>3180</td>\n",
       "      <td>0</td>\n",
       "      <td>...</td>\n",
       "      <td>0.713423</td>\n",
       "      <td>0.826402</td>\n",
       "      <td>0.730720</td>\n",
       "      <td>0.630720</td>\n",
       "      <td>9</td>\n",
       "    </tr>\n",
       "    <tr>\n",
       "      <th>2</th>\n",
       "      <td>23</td>\n",
       "      <td>3</td>\n",
       "      <td>0</td>\n",
       "      <td>1540</td>\n",
       "      <td>6</td>\n",
       "      <td>...</td>\n",
       "      <td>0.595018</td>\n",
       "      <td>0.762284</td>\n",
       "      <td>0.531712</td>\n",
       "      <td>0.531712</td>\n",
       "      <td>7</td>\n",
       "    </tr>\n",
       "    <tr>\n",
       "      <th>3</th>\n",
       "      <td>40</td>\n",
       "      <td>0</td>\n",
       "      <td>0</td>\n",
       "      <td>5230</td>\n",
       "      <td>0</td>\n",
       "      <td>...</td>\n",
       "      <td>0.767828</td>\n",
       "      <td>0.778831</td>\n",
       "      <td>0.792552</td>\n",
       "      <td>0.592552</td>\n",
       "      <td>8</td>\n",
       "    </tr>\n",
       "    <tr>\n",
       "      <th>4</th>\n",
       "      <td>33</td>\n",
       "      <td>2</td>\n",
       "      <td>0</td>\n",
       "      <td>3590</td>\n",
       "      <td>0</td>\n",
       "      <td>...</td>\n",
       "      <td>0.613487</td>\n",
       "      <td>0.665523</td>\n",
       "      <td>0.744634</td>\n",
       "      <td>0.744634</td>\n",
       "      <td>12</td>\n",
       "    </tr>\n",
       "  </tbody>\n",
       "</table>\n",
       "<p>5 rows × 19 columns</p>\n",
       "</div>"
      ],
      "text/plain": [
       "   Edad  Fecha_de_salario  Dueño_de_casa  Ingreso  Meses_trabajados  ...  \\\n",
       "0    40                 0              1     3135                 0  ...   \n",
       "1    61                 3              0     3180                 0  ...   \n",
       "2    23                 3              0     1540                 6  ...   \n",
       "3    40                 0              0     5230                 0  ...   \n",
       "4    33                 2              0     3590                 0  ...   \n",
       "\n",
       "   risk_score_4  risk_score_5  ext_quality_score  ext_quality_score_2  \\\n",
       "0      0.487712      0.515977           0.580918             0.380918   \n",
       "1      0.713423      0.826402           0.730720             0.630720   \n",
       "2      0.595018      0.762284           0.531712             0.531712   \n",
       "3      0.767828      0.778831           0.792552             0.592552   \n",
       "4      0.613487      0.665523           0.744634             0.744634   \n",
       "\n",
       "   consultas_el_mes_pasado  \n",
       "0                       10  \n",
       "1                        9  \n",
       "2                        7  \n",
       "3                        8  \n",
       "4                       12  \n",
       "\n",
       "[5 rows x 19 columns]"
      ]
     },
     "execution_count": 164,
     "metadata": {},
     "output_type": "execute_result"
    }
   ],
   "source": [
    "# Datos de entrada o independientes\n",
    "# Por el momento todas menos ID y  la firma electronica\n",
    "X = df.iloc[:,1:-1]\n",
    "X.head()"
   ]
  },
  {
   "cell_type": "code",
   "execution_count": 165,
   "metadata": {},
   "outputs": [
    {
     "data": {
      "text/plain": [
       "0    1\n",
       "1    0\n",
       "2    0\n",
       "3    1\n",
       "4    0\n",
       "Name: Firma_electronica, dtype: int64"
      ]
     },
     "execution_count": 165,
     "metadata": {},
     "output_type": "execute_result"
    }
   ],
   "source": [
    "# Datos de salida o independientes\n",
    "# Solamente la columna de firma electronica\n",
    "y = df['Firma_electronica']\n",
    "y.head()"
   ]
  },
  {
   "cell_type": "markdown",
   "metadata": {},
   "source": [
    "### Método de filtro "
   ]
  },
  {
   "cell_type": "code",
   "execution_count": 186,
   "metadata": {},
   "outputs": [
    {
     "name": "stdout",
     "output_type": "stream",
     "text": [
      "puntaje\n",
      "[5.521e+02 9.460e+00 2.314e+01 1.092e+04 8.928e+00 3.641e-01 1.361e+01\n",
      " 1.692e+02 1.141e+01 5.628e+00 4.450e+04 5.150e+05 2.327e-02 8.528e-02\n",
      " 1.815e-02 2.065e-02 5.792e-01 3.319e-01 2.369e+01]\n"
     ]
    }
   ],
   "source": [
    "# Seleccionando características\n",
    "# Se pueden cambiar el número de caracteristicas\n",
    "# Extraccion de caracteristicas : chi-cuadrado\n",
    "prueba = SelectKBest(score_func=chi2, k=5)\n",
    "entrenamiento = prueba.fit(X.values, y.values)\n",
    "\n",
    "# Puntaje de caracteristicas: chi- cuadrado\n",
    "print(\"puntaje\")\n",
    "np.set_printoptions(precision=3)\n",
    "print(entrenamiento.scores_)"
   ]
  },
  {
   "cell_type": "code",
   "execution_count": 187,
   "metadata": {},
   "outputs": [
    {
     "name": "stdout",
     "output_type": "stream",
     "text": [
      "Caracteristicas seleccionadas\n",
      "[[4.000e+01 3.135e+03 6.000e+00 5.500e+02 3.620e+04]\n",
      " [6.100e+01 3.180e+03 2.000e+00 6.000e+02 3.015e+04]\n",
      " [2.300e+01 1.540e+03 7.000e+00 4.500e+02 3.455e+04]\n",
      " [4.000e+01 5.230e+03 2.000e+00 7.000e+02 4.215e+04]\n",
      " [3.300e+01 3.590e+03 2.000e+00 1.100e+03 5.385e+04]]\n"
     ]
    },
    {
     "data": {
      "text/html": [
       "<div>\n",
       "<style scoped>\n",
       "    .dataframe tbody tr th:only-of-type {\n",
       "        vertical-align: middle;\n",
       "    }\n",
       "\n",
       "    .dataframe tbody tr th {\n",
       "        vertical-align: top;\n",
       "    }\n",
       "\n",
       "    .dataframe thead th {\n",
       "        text-align: right;\n",
       "    }\n",
       "</style>\n",
       "<table border=\"1\" class=\"dataframe\">\n",
       "  <thead>\n",
       "    <tr style=\"text-align: right;\">\n",
       "      <th></th>\n",
       "      <th>A</th>\n",
       "      <th>B</th>\n",
       "      <th>C</th>\n",
       "      <th>D</th>\n",
       "      <th>E</th>\n",
       "    </tr>\n",
       "  </thead>\n",
       "  <tbody>\n",
       "    <tr>\n",
       "      <th>0</th>\n",
       "      <td>40.0</td>\n",
       "      <td>3135.0</td>\n",
       "      <td>6.0</td>\n",
       "      <td>550.0</td>\n",
       "      <td>36200.0</td>\n",
       "    </tr>\n",
       "    <tr>\n",
       "      <th>1</th>\n",
       "      <td>61.0</td>\n",
       "      <td>3180.0</td>\n",
       "      <td>2.0</td>\n",
       "      <td>600.0</td>\n",
       "      <td>30150.0</td>\n",
       "    </tr>\n",
       "    <tr>\n",
       "      <th>2</th>\n",
       "      <td>23.0</td>\n",
       "      <td>1540.0</td>\n",
       "      <td>7.0</td>\n",
       "      <td>450.0</td>\n",
       "      <td>34550.0</td>\n",
       "    </tr>\n",
       "    <tr>\n",
       "      <th>3</th>\n",
       "      <td>40.0</td>\n",
       "      <td>5230.0</td>\n",
       "      <td>2.0</td>\n",
       "      <td>700.0</td>\n",
       "      <td>42150.0</td>\n",
       "    </tr>\n",
       "    <tr>\n",
       "      <th>4</th>\n",
       "      <td>33.0</td>\n",
       "      <td>3590.0</td>\n",
       "      <td>2.0</td>\n",
       "      <td>1100.0</td>\n",
       "      <td>53850.0</td>\n",
       "    </tr>\n",
       "  </tbody>\n",
       "</table>\n",
       "</div>"
      ],
      "text/plain": [
       "      A       B    C       D        E\n",
       "0  40.0  3135.0  6.0   550.0  36200.0\n",
       "1  61.0  3180.0  2.0   600.0  30150.0\n",
       "2  23.0  1540.0  7.0   450.0  34550.0\n",
       "3  40.0  5230.0  2.0   700.0  42150.0\n",
       "4  33.0  3590.0  2.0  1100.0  53850.0"
      ]
     },
     "execution_count": 187,
     "metadata": {},
     "output_type": "execute_result"
    }
   ],
   "source": [
    "# Caracteristicas seleccionadas\n",
    "print(\"Caracteristicas seleccionadas\")\n",
    "caracteristicas = entrenamiento.transform(X.values)\n",
    "print(caracteristicas[0:5,:])\n",
    "caracteristicas_df = pd.DataFrame(data=caracteristicas, columns=list('ABCDE'))\n",
    "caracteristicas_df.head()\n"
   ]
  },
  {
   "cell_type": "code",
   "execution_count": 193,
   "metadata": {},
   "outputs": [
    {
     "data": {
      "text/html": [
       "<div>\n",
       "<style scoped>\n",
       "    .dataframe tbody tr th:only-of-type {\n",
       "        vertical-align: middle;\n",
       "    }\n",
       "\n",
       "    .dataframe tbody tr th {\n",
       "        vertical-align: top;\n",
       "    }\n",
       "\n",
       "    .dataframe thead th {\n",
       "        text-align: right;\n",
       "    }\n",
       "</style>\n",
       "<table border=\"1\" class=\"dataframe\">\n",
       "  <thead>\n",
       "    <tr style=\"text-align: right;\">\n",
       "      <th></th>\n",
       "      <th>Edad</th>\n",
       "      <th>Fecha_de_salario</th>\n",
       "      <th>Dueño_de_casa</th>\n",
       "      <th>Ingreso</th>\n",
       "      <th>Meses_trabajados</th>\n",
       "      <th>...</th>\n",
       "      <th>risk_score_4</th>\n",
       "      <th>risk_score_5</th>\n",
       "      <th>ext_quality_score</th>\n",
       "      <th>ext_quality_score_2</th>\n",
       "      <th>consultas_el_mes_pasado</th>\n",
       "    </tr>\n",
       "  </thead>\n",
       "  <tbody>\n",
       "    <tr>\n",
       "      <th>0</th>\n",
       "      <td>40</td>\n",
       "      <td>0</td>\n",
       "      <td>1</td>\n",
       "      <td>3135</td>\n",
       "      <td>0</td>\n",
       "      <td>...</td>\n",
       "      <td>0.487712</td>\n",
       "      <td>0.515977</td>\n",
       "      <td>0.580918</td>\n",
       "      <td>0.380918</td>\n",
       "      <td>10</td>\n",
       "    </tr>\n",
       "    <tr>\n",
       "      <th>1</th>\n",
       "      <td>61</td>\n",
       "      <td>3</td>\n",
       "      <td>0</td>\n",
       "      <td>3180</td>\n",
       "      <td>0</td>\n",
       "      <td>...</td>\n",
       "      <td>0.713423</td>\n",
       "      <td>0.826402</td>\n",
       "      <td>0.730720</td>\n",
       "      <td>0.630720</td>\n",
       "      <td>9</td>\n",
       "    </tr>\n",
       "    <tr>\n",
       "      <th>2</th>\n",
       "      <td>23</td>\n",
       "      <td>3</td>\n",
       "      <td>0</td>\n",
       "      <td>1540</td>\n",
       "      <td>6</td>\n",
       "      <td>...</td>\n",
       "      <td>0.595018</td>\n",
       "      <td>0.762284</td>\n",
       "      <td>0.531712</td>\n",
       "      <td>0.531712</td>\n",
       "      <td>7</td>\n",
       "    </tr>\n",
       "    <tr>\n",
       "      <th>3</th>\n",
       "      <td>40</td>\n",
       "      <td>0</td>\n",
       "      <td>0</td>\n",
       "      <td>5230</td>\n",
       "      <td>0</td>\n",
       "      <td>...</td>\n",
       "      <td>0.767828</td>\n",
       "      <td>0.778831</td>\n",
       "      <td>0.792552</td>\n",
       "      <td>0.592552</td>\n",
       "      <td>8</td>\n",
       "    </tr>\n",
       "    <tr>\n",
       "      <th>4</th>\n",
       "      <td>33</td>\n",
       "      <td>2</td>\n",
       "      <td>0</td>\n",
       "      <td>3590</td>\n",
       "      <td>0</td>\n",
       "      <td>...</td>\n",
       "      <td>0.613487</td>\n",
       "      <td>0.665523</td>\n",
       "      <td>0.744634</td>\n",
       "      <td>0.744634</td>\n",
       "      <td>12</td>\n",
       "    </tr>\n",
       "  </tbody>\n",
       "</table>\n",
       "<p>5 rows × 19 columns</p>\n",
       "</div>"
      ],
      "text/plain": [
       "   Edad  Fecha_de_salario  Dueño_de_casa  Ingreso  Meses_trabajados  ...  \\\n",
       "0    40                 0              1     3135                 0  ...   \n",
       "1    61                 3              0     3180                 0  ...   \n",
       "2    23                 3              0     1540                 6  ...   \n",
       "3    40                 0              0     5230                 0  ...   \n",
       "4    33                 2              0     3590                 0  ...   \n",
       "\n",
       "   risk_score_4  risk_score_5  ext_quality_score  ext_quality_score_2  \\\n",
       "0      0.487712      0.515977           0.580918             0.380918   \n",
       "1      0.713423      0.826402           0.730720             0.630720   \n",
       "2      0.595018      0.762284           0.531712             0.531712   \n",
       "3      0.767828      0.778831           0.792552             0.592552   \n",
       "4      0.613487      0.665523           0.744634             0.744634   \n",
       "\n",
       "   consultas_el_mes_pasado  \n",
       "0                       10  \n",
       "1                        9  \n",
       "2                        7  \n",
       "3                        8  \n",
       "4                       12  \n",
       "\n",
       "[5 rows x 19 columns]"
      ]
     },
     "execution_count": 193,
     "metadata": {},
     "output_type": "execute_result"
    }
   ],
   "source": [
    "X.head()"
   ]
  },
  {
   "cell_type": "markdown",
   "metadata": {},
   "source": [
    "Agrupando los datos en un dataframe para ver mejor la información, observamos que las columnas seleccionadas por el método de filtrado son las siguientes:\n",
    "\n",
    "1. Edad\n",
    "2. Ingreso\n",
    "3. Cuenta_personal_meses\n",
    "4. Cantidad_solicitada\n",
    "5. risk_score\n",
    "\n",
    "Por lo que solo preservaremos estas columnas en el dataframe de las variables independientes (X)"
   ]
  },
  {
   "cell_type": "code",
   "execution_count": 197,
   "metadata": {},
   "outputs": [
    {
     "data": {
      "text/html": [
       "<div>\n",
       "<style scoped>\n",
       "    .dataframe tbody tr th:only-of-type {\n",
       "        vertical-align: middle;\n",
       "    }\n",
       "\n",
       "    .dataframe tbody tr th {\n",
       "        vertical-align: top;\n",
       "    }\n",
       "\n",
       "    .dataframe thead th {\n",
       "        text-align: right;\n",
       "    }\n",
       "</style>\n",
       "<table border=\"1\" class=\"dataframe\">\n",
       "  <thead>\n",
       "    <tr style=\"text-align: right;\">\n",
       "      <th></th>\n",
       "      <th>Edad</th>\n",
       "      <th>Ingreso</th>\n",
       "      <th>Cuenta_personal_meses</th>\n",
       "      <th>Cantidad_solicitada</th>\n",
       "      <th>risk_score</th>\n",
       "    </tr>\n",
       "  </thead>\n",
       "  <tbody>\n",
       "    <tr>\n",
       "      <th>0</th>\n",
       "      <td>40</td>\n",
       "      <td>3135</td>\n",
       "      <td>6</td>\n",
       "      <td>550</td>\n",
       "      <td>36200</td>\n",
       "    </tr>\n",
       "    <tr>\n",
       "      <th>1</th>\n",
       "      <td>61</td>\n",
       "      <td>3180</td>\n",
       "      <td>2</td>\n",
       "      <td>600</td>\n",
       "      <td>30150</td>\n",
       "    </tr>\n",
       "    <tr>\n",
       "      <th>2</th>\n",
       "      <td>23</td>\n",
       "      <td>1540</td>\n",
       "      <td>7</td>\n",
       "      <td>450</td>\n",
       "      <td>34550</td>\n",
       "    </tr>\n",
       "    <tr>\n",
       "      <th>3</th>\n",
       "      <td>40</td>\n",
       "      <td>5230</td>\n",
       "      <td>2</td>\n",
       "      <td>700</td>\n",
       "      <td>42150</td>\n",
       "    </tr>\n",
       "    <tr>\n",
       "      <th>4</th>\n",
       "      <td>33</td>\n",
       "      <td>3590</td>\n",
       "      <td>2</td>\n",
       "      <td>1100</td>\n",
       "      <td>53850</td>\n",
       "    </tr>\n",
       "  </tbody>\n",
       "</table>\n",
       "</div>"
      ],
      "text/plain": [
       "   Edad  Ingreso  Cuenta_personal_meses  Cantidad_solicitada  risk_score\n",
       "0    40     3135                      6                  550       36200\n",
       "1    61     3180                      2                  600       30150\n",
       "2    23     1540                      7                  450       34550\n",
       "3    40     5230                      2                  700       42150\n",
       "4    33     3590                      2                 1100       53850"
      ]
     },
     "execution_count": 197,
     "metadata": {},
     "output_type": "execute_result"
    }
   ],
   "source": [
    "X = X[['Edad','Ingreso','Cuenta_personal_meses','Cantidad_solicitada','risk_score']]\n",
    "X.head()"
   ]
  },
  {
   "cell_type": "markdown",
   "metadata": {},
   "source": [
    "## Capitulo 7 - Procesamiento de los datos"
   ]
  },
  {
   "cell_type": "markdown",
   "metadata": {},
   "source": [
    "### Estandarización de los datos"
   ]
  },
  {
   "cell_type": "code",
   "execution_count": 198,
   "metadata": {},
   "outputs": [
    {
     "data": {
      "text/html": [
       "<div>\n",
       "<style scoped>\n",
       "    .dataframe tbody tr th:only-of-type {\n",
       "        vertical-align: middle;\n",
       "    }\n",
       "\n",
       "    .dataframe tbody tr th {\n",
       "        vertical-align: top;\n",
       "    }\n",
       "\n",
       "    .dataframe thead th {\n",
       "        text-align: right;\n",
       "    }\n",
       "</style>\n",
       "<table border=\"1\" class=\"dataframe\">\n",
       "  <thead>\n",
       "    <tr style=\"text-align: right;\">\n",
       "      <th></th>\n",
       "      <th>Edad</th>\n",
       "      <th>Ingreso</th>\n",
       "      <th>Cuenta_personal_meses</th>\n",
       "      <th>Cantidad_solicitada</th>\n",
       "      <th>risk_score</th>\n",
       "    </tr>\n",
       "  </thead>\n",
       "  <tbody>\n",
       "    <tr>\n",
       "      <th>0</th>\n",
       "      <td>-0.253977</td>\n",
       "      <td>-0.347022</td>\n",
       "      <td>1.160820</td>\n",
       "      <td>-0.573275</td>\n",
       "      <td>-1.616642</td>\n",
       "    </tr>\n",
       "    <tr>\n",
       "      <th>1</th>\n",
       "      <td>1.514775</td>\n",
       "      <td>-0.317118</td>\n",
       "      <td>-0.643926</td>\n",
       "      <td>-0.501696</td>\n",
       "      <td>-2.009657</td>\n",
       "    </tr>\n",
       "    <tr>\n",
       "      <th>2</th>\n",
       "      <td>-1.685824</td>\n",
       "      <td>-1.406929</td>\n",
       "      <td>1.612007</td>\n",
       "      <td>-0.716434</td>\n",
       "      <td>-1.723828</td>\n",
       "    </tr>\n",
       "    <tr>\n",
       "      <th>3</th>\n",
       "      <td>-0.253977</td>\n",
       "      <td>1.045146</td>\n",
       "      <td>-0.643926</td>\n",
       "      <td>-0.358537</td>\n",
       "      <td>-1.230123</td>\n",
       "    </tr>\n",
       "    <tr>\n",
       "      <th>4</th>\n",
       "      <td>-0.843561</td>\n",
       "      <td>-0.044665</td>\n",
       "      <td>-0.643926</td>\n",
       "      <td>0.214099</td>\n",
       "      <td>-0.470078</td>\n",
       "    </tr>\n",
       "  </tbody>\n",
       "</table>\n",
       "</div>"
      ],
      "text/plain": [
       "       Edad   Ingreso  Cuenta_personal_meses  Cantidad_solicitada  risk_score\n",
       "0 -0.253977 -0.347022               1.160820            -0.573275   -1.616642\n",
       "1  1.514775 -0.317118              -0.643926            -0.501696   -2.009657\n",
       "2 -1.685824 -1.406929               1.612007            -0.716434   -1.723828\n",
       "3 -0.253977  1.045146              -0.643926            -0.358537   -1.230123\n",
       "4 -0.843561 -0.044665              -0.643926             0.214099   -0.470078"
      ]
     },
     "execution_count": 198,
     "metadata": {},
     "output_type": "execute_result"
    }
   ],
   "source": [
    "sc = StandardScaler()\n",
    "X_estandar = sc.fit_transform(X)\n",
    "X = pd.DataFrame(data = X_estandar, columns= X.columns )\n",
    "X.head()"
   ]
  },
  {
   "cell_type": "markdown",
   "metadata": {},
   "source": [
    "### Datos de entrenamiento y de prueba"
   ]
  },
  {
   "cell_type": "code",
   "execution_count": 207,
   "metadata": {},
   "outputs": [],
   "source": [
    "# Separación de datos de entrenamiento y de prueba con 25% de ellos\n",
    "X_train, X_test, y_train, y_test = train_test_split(X.values, y.values, test_size=0.25, random_state=0)"
   ]
  },
  {
   "cell_type": "markdown",
   "metadata": {},
   "source": [
    "## Capitulo 9 - Algoritmos de clasificación ( todavia no es seguro usarlo )"
   ]
  },
  {
   "cell_type": "markdown",
   "metadata": {},
   "source": [
    "###  Regresión lineal"
   ]
  },
  {
   "cell_type": "code",
   "execution_count": 208,
   "metadata": {},
   "outputs": [],
   "source": [
    "modelo = LogisticRegression()\n",
    "modelo.fit(X_train, y_train)\n",
    "y_pred = modelo.predict(X_test)"
   ]
  },
  {
   "cell_type": "code",
   "execution_count": 209,
   "metadata": {},
   "outputs": [
    {
     "name": "stdout",
     "output_type": "stream",
     "text": [
      "Datos de entrenamiento\n",
      "[1 1 0 ... 0 0 1]\n",
      "\n",
      "Datos obtenidos en la predicción\n",
      "[1 1 1 ... 1 1 1]\n"
     ]
    }
   ],
   "source": [
    "print(\"Datos de entrenamiento\")\n",
    "print(y_test)\n",
    "print()\n",
    "print(\"Datos obtenidos en la predicción\")\n",
    "print(y_pred)"
   ]
  },
  {
   "cell_type": "markdown",
   "metadata": {},
   "source": [
    "## Capitulo 10 - Métricas de rendimiento algoritmos de clasificación  "
   ]
  },
  {
   "cell_type": "markdown",
   "metadata": {},
   "source": [
    "### Regresion lineal"
   ]
  },
  {
   "cell_type": "markdown",
   "metadata": {},
   "source": [
    "#### Matriz de confusión"
   ]
  },
  {
   "cell_type": "code",
   "execution_count": 211,
   "metadata": {},
   "outputs": [
    {
     "name": "stdout",
     "output_type": "stream",
     "text": [
      "[[ 793 1287]\n",
      " [ 612 1785]]\n"
     ]
    }
   ],
   "source": [
    "matriz_confusion = confusion_matrix(y_test, y_pred)\n",
    "print(matriz_confusion)\n"
   ]
  },
  {
   "cell_type": "markdown",
   "metadata": {},
   "source": [
    "#### Reporte de clasificación \n",
    "\n"
   ]
  },
  {
   "cell_type": "code",
   "execution_count": 216,
   "metadata": {},
   "outputs": [
    {
     "name": "stdout",
     "output_type": "stream",
     "text": [
      "              precision    recall  f1-score   support\n",
      "\n",
      "           0       0.56      0.38      0.46      2080\n",
      "           1       0.58      0.74      0.65      2397\n",
      "\n",
      "    accuracy                           0.58      4477\n",
      "   macro avg       0.57      0.56      0.55      4477\n",
      "weighted avg       0.57      0.58      0.56      4477\n",
      "\n"
     ]
    }
   ],
   "source": [
    "reporte_clasificacion = classification_report(y_test, y_pred)\n",
    "print(reporte_clasificacion) "
   ]
  },
  {
   "cell_type": "markdown",
   "metadata": {},
   "source": [
    "#### Area bajo la curva"
   ]
  },
  {
   "cell_type": "code",
   "execution_count": 218,
   "metadata": {},
   "outputs": [
    {
     "name": "stdout",
     "output_type": "stream",
     "text": [
      "0.5629654255319149\n"
     ]
    }
   ],
   "source": [
    "area_bajo_la_curva = roc_auc_score(y_test, y_pred)\n",
    "print(area_bajo_la_curva)"
   ]
  }
 ],
 "metadata": {
  "kernelspec": {
   "display_name": "Python 3.9.12 ('base')",
   "language": "python",
   "name": "python3"
  },
  "language_info": {
   "codemirror_mode": {
    "name": "ipython",
    "version": 3
   },
   "file_extension": ".py",
   "mimetype": "text/x-python",
   "name": "python",
   "nbconvert_exporter": "python",
   "pygments_lexer": "ipython3",
   "version": "3.9.12"
  },
  "orig_nbformat": 4,
  "vscode": {
   "interpreter": {
    "hash": "0a43b9295fb86d305e987cd6722718c666194e7758ab1cf22d83fc2ed63ea44b"
   }
  }
 },
 "nbformat": 4,
 "nbformat_minor": 2
}
